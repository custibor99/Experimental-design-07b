{
 "cells": [
  {
   "cell_type": "code",
   "execution_count": 1,
   "id": "9d5406fc-a371-4735-9228-46a70ed4c195",
   "metadata": {},
   "outputs": [],
   "source": [
    "import numpy as np\n",
    "import pandas as pd\n",
    "from tqdm import tqdm\n",
    "\n",
    "from sklearn.linear_model import LinearRegression"
   ]
  },
  {
   "cell_type": "code",
   "execution_count": 2,
   "id": "403413ff-ac0b-40d5-96dc-5e31e7934631",
   "metadata": {},
   "outputs": [],
   "source": [
    "dataset = 'ILI'\n",
    "raw = pd.read_csv('../Data/' + dataset + '.csv')\n",
    "result_mae, result_mse = {}, {}"
   ]
  },
  {
   "cell_type": "code",
   "execution_count": 3,
   "id": "3ce91327-815b-4069-8a21-2212b042edbb",
   "metadata": {},
   "outputs": [],
   "source": [
    "model_type = \"LinearRegression\"\n",
    "\n",
    "if dataset == 'ILI':\n",
    "    input_size = 96\n",
    "elif dataset == 'Exchange':\n",
    "    input_size = 31\n",
    "else:\n",
    "    input_size = 672\n",
    "\n",
    "pred_lens = {'ETTh1': [24,48,168,336,720],\n",
    "            'ETTh2': [24,48,168,336,720],\n",
    "            'ETTm1': [24,48,96,288,672],\n",
    "            'ETTm2': [96,192,336,720],\n",
    "            #'ETTm2': [24,48,96,288,672],\n",
    "            'ECL': [48,168,336,720,960],\n",
    "            'WTH': [24,48,168,336,720],\n",
    "            'Weather': [96,192,336,720],\n",
    "            'ILI': [24,36,48,60],\n",
    "            'Exchange': [96,192,336,720]}"
   ]
  },
  {
   "cell_type": "code",
   "execution_count": 4,
   "id": "6c0d230d-7956-491d-a5f8-f06df176ed62",
   "metadata": {},
   "outputs": [
    {
     "name": "stderr",
     "output_type": "stream",
     "text": [
      "  0%|                                                                                            | 0/4 [00:00<?, ?it/s]\n",
      "  0%|                                                                                            | 0/7 [00:00<?, ?it/s]\u001b[A\n",
      " 14%|████████████                                                                        | 1/7 [00:00<00:00,  7.07it/s]\u001b[A\n",
      " 29%|████████████████████████                                                            | 2/7 [00:00<00:00,  8.31it/s]\u001b[A\n",
      "100%|████████████████████████████████████████████████████████████████████████████████████| 7/7 [00:00<00:00, 14.72it/s]\u001b[A\n",
      " 25%|█████████████████████                                                               | 1/4 [00:00<00:01,  2.06it/s]\n",
      "  0%|                                                                                            | 0/7 [00:00<?, ?it/s]\u001b[A\n",
      " 43%|████████████████████████████████████                                                | 3/7 [00:00<00:00, 28.82it/s]\u001b[A\n",
      "100%|████████████████████████████████████████████████████████████████████████████████████| 7/7 [00:00<00:00, 24.53it/s]\u001b[A\n",
      " 50%|██████████████████████████████████████████                                          | 2/4 [00:00<00:00,  2.70it/s]\n",
      "  0%|                                                                                            | 0/7 [00:00<?, ?it/s]\u001b[A\n",
      " 43%|████████████████████████████████████                                                | 3/7 [00:00<00:00, 23.78it/s]\u001b[A\n",
      "100%|████████████████████████████████████████████████████████████████████████████████████| 7/7 [00:00<00:00, 25.60it/s]\u001b[A\n",
      " 75%|███████████████████████████████████████████████████████████████                     | 3/4 [00:01<00:00,  3.04it/s]\n",
      "  0%|                                                                                            | 0/7 [00:00<?, ?it/s]\u001b[A\n",
      " 43%|████████████████████████████████████                                                | 3/7 [00:00<00:00, 28.87it/s]\u001b[A\n",
      "100%|████████████████████████████████████████████████████████████████████████████████████| 7/7 [00:00<00:00, 26.77it/s]\u001b[A\n",
      "100%|████████████████████████████████████████████████████████████████████████████████████| 4/4 [00:01<00:00,  3.03it/s]\n"
     ]
    }
   ],
   "source": [
    "for pred_len in tqdm(pred_lens[dataset]):\n",
    "    mses = []\n",
    "    maes = []\n",
    "    for target in tqdm(raw.columns[1:]):\n",
    "        data = raw[[target]].values.reshape(-1)\n",
    "            \n",
    "        if dataset == 'ETTh1' or dataset == 'ETTh2':\n",
    "            border1s = [0, 12*30*24 - input_size, 16*30*24-input_size]\n",
    "            border2s = [12*30*24, 16*30*24, 20*30*24]\n",
    "        elif dataset == 'ETTm1' or dataset == 'ETTm2':\n",
    "            border1s = [0, 12*30*24*4 - input_size, 16*30*24*4-input_size]\n",
    "            border2s = [12*30*24*4, 16*30*24*4, 20*30*24*4]\n",
    "        else:\n",
    "            border1s = [0, int(len(data)*0.7)-input_size, int(len(data)*0.8)-input_size]\n",
    "            border2s = [int(len(data)*0.7), int(len(data)*0.8), len(data)]\n",
    "            \n",
    "        training_series = data[border1s[0]:border2s[0]]\n",
    "        mean = training_series.mean()\n",
    "        std = training_series.std()\n",
    "        training_series = data[border1s[0]:border2s[1]]\n",
    "        training_series = (training_series-mean)/std\n",
    "        test_series = data[border1s[2]:border2s[2]]\n",
    "        test_series = (test_series-mean)/std\n",
    "        \n",
    "        train_X = []\n",
    "        train_Y = []\n",
    "        for i in range(border2s[1]-pred_len-input_size+1):\n",
    "            X = training_series[i:(i+input_size)]\n",
    "            Y = training_series[(i+input_size):(i+input_size+pred_len)]\n",
    "            train_X.append(X)\n",
    "            train_Y.append(Y)\n",
    "        \n",
    "        train_X = np.array(train_X);train_Y = np.array(train_Y);\n",
    "            \n",
    "        test_X = []\n",
    "        test_Y = []\n",
    "        for i in range(0, border2s[2]-pred_len-input_size - border1s[2]+1):\n",
    "            X = test_series[i:(i+input_size)]\n",
    "            Y = test_series[(i+input_size):(i+input_size+pred_len)]\n",
    "            test_X.append(X)\n",
    "            test_Y.append(Y)\n",
    "        test_X = np.array(test_X);test_Y = np.array(test_Y);\n",
    "            \n",
    "        model = LinearRegression()\n",
    "                \n",
    "        model.fit(train_X,train_Y)\n",
    "        pred = model.predict(test_X)\n",
    "            \n",
    "        mse = np.mean((test_Y-pred)**2)\n",
    "        mae = np.mean(abs(test_Y-pred))\n",
    "        mses.append(mse)\n",
    "        maes.append(mae)\n",
    "    result_mae[pred_len] = np.mean(np.array(maes));result_mse[pred_len] = np.mean(np.array(mses));"
   ]
  },
  {
   "cell_type": "code",
   "execution_count": 5,
   "id": "50d1fa8c-29ed-402f-862b-2bbefc99f4e8",
   "metadata": {},
   "outputs": [
    {
     "name": "stdout",
     "output_type": "stream",
     "text": [
      "\n",
      "\n",
      "pred_len  MAE    MSE   \n",
      "24        0.968  2.158 \n",
      "36        1.016  2.241 \n",
      "48        1.039  2.280 \n",
      "60        1.065  2.351 \n"
     ]
    }
   ],
   "source": [
    "print('\\n')\n",
    "print(\"{:<9} {:<6} {:<6}\".format('pred_len','MAE','MSE'))\n",
    "for pred_len in pred_lens[dataset]:\n",
    "    print(\"{:<9} {:<6} {:<6}\".format(pred_len,'%.3f'%result_mae[pred_len],'%.3f'%result_mse[pred_len]))"
   ]
  },
  {
   "cell_type": "code",
   "execution_count": null,
   "id": "74f76420-8fa0-490e-b44c-228e81f1e0a4",
   "metadata": {},
   "outputs": [],
   "source": []
  }
 ],
 "metadata": {
  "kernelspec": {
   "display_name": "Python 3",
   "language": "python",
   "name": "python3"
  },
  "language_info": {
   "codemirror_mode": {
    "name": "ipython",
    "version": 3
   },
   "file_extension": ".py",
   "mimetype": "text/x-python",
   "name": "python",
   "nbconvert_exporter": "python",
   "pygments_lexer": "ipython3",
   "version": "3.8.8"
  }
 },
 "nbformat": 4,
 "nbformat_minor": 5
}
