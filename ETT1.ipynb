{
 "cells": [
  {
   "cell_type": "code",
   "execution_count": 1,
   "id": "594e9ce2-b455-41e9-b178-05e28d6711d5",
   "metadata": {},
   "outputs": [],
   "source": [
    "import pandas as pd\n",
    "import numpy as np\n",
    "from sklearn.metrics import mean_absolute_error\n",
    "from sklearn.metrics import mean_squared_error\n",
    "from matplotlib import pyplot as plt\n",
    "from sklearn.linear_model import LinearRegression\n",
    "from datetime import datetime\n",
    "from sklearn.preprocessing import StandardScaler\n"
   ]
  },
  {
   "cell_type": "code",
   "execution_count": 2,
   "id": "1e386248-313c-4f3d-be48-93550d59bc0f",
   "metadata": {},
   "outputs": [],
   "source": [
    "def get_lag_response_and_dependent(df: pd.DataFrame, input_size: int, horizon_size:int )-> pd.DataFrame:\n",
    "    n, d = df.shape\n",
    "    w = input_size\n",
    "    h = horizon_size\n",
    "    res_df = np.zeros([n - w - h + 1,d * w + d * h])\n",
    "    \n",
    "    for i in range(0, n-w-h+1):\n",
    "        res_df[i] = df.values.flatten()[i*d:i*d+w*d + h*d]\n",
    "    X = res_df[:, 0:w*d]\n",
    "    y = res_df[:, w*d:]\n",
    "    return X, y\n",
    "\n",
    "def read_ett(filename: str) -> pd.DataFrame:\n",
    "    etth1 = pd.read_csv(\"data/ETT-small-20231205T092053Z-001/ETT-small/ETTh1.csv\")\n",
    "    etth1[\"date\"] = pd.to_datetime(etth1[\"date\"])\n",
    "    return etth1\n"
   ]
  },
  {
   "cell_type": "code",
   "execution_count": 3,
   "id": "9360a29c-2257-47f4-a214-dc25b2d35206",
   "metadata": {},
   "outputs": [],
   "source": [
    "sc = StandardScaler()\n",
    "\n",
    "etth1 = read_ett(\"data/ETT-small-20231205T092053Z-001/ETT-small/ETTh1.csv\")\n",
    "cut_off = int(len(etth1) * 0.75)\n",
    "sc.fit(etth1.drop(columns=\"date\").iloc[0:cut_off])\n",
    "\n",
    "#Spliting data into train and test. Will the test data need padding?\n",
    "start_date = etth1[\"date\"].min()\n",
    "train = etth1.loc[etth1[\"date\"] < (start_date + pd.DateOffset(months=16))].drop(columns=\"date\")\n",
    "test = etth1.loc[(etth1[\"date\"] >= (start_date + pd.DateOffset(months=16))) & (etth1[\"date\"] < (start_date + pd.DateOffset(months=20)))].drop(columns=\"date\")\n",
    "\n",
    "cut_off = int(len(train) * 0.75)\n",
    "sc.fit(train.iloc[0:cut_off])\n",
    "\n",
    "train = pd.DataFrame(sc.transform(train))\n",
    "test = pd.DataFrame(sc.transform(test))"
   ]
  },
  {
   "cell_type": "markdown",
   "id": "b81795b1-1782-450c-93d6-e9ffe1f59f16",
   "metadata": {},
   "source": [
    "# Build Model"
   ]
  },
  {
   "cell_type": "markdown",
   "id": "2fcad419-8129-4a90-a094-613450c94e53",
   "metadata": {},
   "source": [
    "## One day horizon"
   ]
  },
  {
   "cell_type": "code",
   "execution_count": 4,
   "id": "fd868d89-60d5-4093-a07a-338687d5ccf2",
   "metadata": {},
   "outputs": [
    {
     "name": "stdout",
     "output_type": "stream",
     "text": [
      "mse: 0.17092914014227018, mae: 0.2661943578259878\n"
     ]
    }
   ],
   "source": [
    "X_train, y_train = get_lag_response_and_dependent(train, input_size=1, horizon_size=1)\n",
    "X_test, y_test = get_lag_response_and_dependent(test, input_size=1, horizon_size=1)\n",
    "\n",
    "lr = LinearRegression()\n",
    "lr.fit(X_train, y_train)\n",
    "y_pred = lr.predict(X_test)\n",
    "mse = mean_squared_error(y_pred,y_test)\n",
    "mae = mean_absolute_error(y_pred,y_test)\n",
    "print(f\"mse: {mse}, mae: {mae}\")"
   ]
  },
  {
   "cell_type": "markdown",
   "id": "58578ddd-982b-4c0d-aecd-88faaf866601",
   "metadata": {},
   "source": [
    "## Multi day horizont"
   ]
  },
  {
   "cell_type": "code",
   "execution_count": 5,
   "id": "57c95a75-88f5-4831-a391-5deb81dc4eec",
   "metadata": {},
   "outputs": [
    {
     "name": "stdout",
     "output_type": "stream",
     "text": [
      "horizon: 24, mse: 0.3041115416681452, mae: 0.35498849323911175\n",
      "horizon: 48, mse: 0.3420245243955978, mae: 0.37838870757472964\n",
      "horizon: 168, mse: 0.40871408005425447, mae: 0.42405140637411987\n",
      "horizon: 336, mse: 0.44459149947044807, mae: 0.4510744424444384\n",
      "horizon: 720, mse: 0.502096515529627, mae: 0.5028583444464004\n",
      "CPU times: user 1min 18s, sys: 44.2 s, total: 2min 3s\n",
      "Wall time: 19.3 s\n"
     ]
    }
   ],
   "source": [
    "%%time\n",
    "pred = np.array([])\n",
    "truth = np.array([])\n",
    "lr = LinearRegression(fit_intercept = False)\n",
    "input_size=672\n",
    "d = train.shape[1]\n",
    "\n",
    "\n",
    "\n",
    "for h in [24, 48, 168, 336, 720]:\n",
    "    y_pred = np.empty((test.shape[0] - h + 1, h, d))\n",
    "    y_truth = np.empty((test.shape[0] - h + 1, h, d))\n",
    "    for p in train.columns:\n",
    "        X_train, y_train = get_lag_response_and_dependent(train[[p]], input_size=input_size, horizon_size=h)\n",
    "        \n",
    "        #Pad test wiht the window size\n",
    "        test_padded = pd.concat([train.iloc[-input_size:],test])\n",
    "        X_test, y_test = get_lag_response_and_dependent(test_padded[[p]], input_size=input_size, horizon_size=h)\n",
    "\n",
    "        lr.fit(X_train, y_train)\n",
    "        y_pred[:,:,p] = lr.predict(X_test)\n",
    "        y_truth[:,:,p] = y_test\n",
    "\n",
    "    mae = np.mean(np.abs(y_pred - y_truth))\n",
    "    mse = np.mean((y_pred - y_truth)**2)\n",
    "    print(f\"horizon: {h}, mse: {mse}, mae: {mae}\")"
   ]
  },
  {
   "cell_type": "code",
   "execution_count": null,
   "id": "61061edb-99e3-4844-996c-cdda3c6003c1",
   "metadata": {},
   "outputs": [],
   "source": []
  }
 ],
 "metadata": {
  "kernelspec": {
   "display_name": "Python 3 (ipykernel)",
   "language": "python",
   "name": "python3"
  },
  "language_info": {
   "codemirror_mode": {
    "name": "ipython",
    "version": 3
   },
   "file_extension": ".py",
   "mimetype": "text/x-python",
   "name": "python",
   "nbconvert_exporter": "python",
   "pygments_lexer": "ipython3",
   "version": "3.11.4"
  }
 },
 "nbformat": 4,
 "nbformat_minor": 5
}
