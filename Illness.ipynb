{
 "cells": [
  {
   "cell_type": "code",
   "execution_count": 1,
   "metadata": {},
   "outputs": [],
   "source": [
    "import pandas as pd\n",
    "import numpy as np\n",
    "from sklearn.linear_model import LinearRegression\n",
    "from sklearn.metrics import mean_absolute_error\n",
    "from sklearn.metrics import mean_squared_error"
   ]
  },
  {
   "cell_type": "markdown",
   "metadata": {},
   "source": [
    "# Illness dataset"
   ]
  },
  {
   "cell_type": "code",
   "execution_count": 2,
   "metadata": {},
   "outputs": [],
   "source": [
    "def read_illness_file(filename: str) -> pd.DataFrame:\n",
    "    illness = pd.read_csv(filename)\n",
    "    illness[\"date\"] = pd.to_datetime(illness[\"date\"])\n",
    "    return illness"
   ]
  },
  {
   "cell_type": "code",
   "execution_count": 3,
   "metadata": {},
   "outputs": [],
   "source": [
    "illness = read_illness_file(\"data/illness/national_illness.csv\")"
   ]
  },
  {
   "cell_type": "markdown",
   "metadata": {},
   "source": [
    "### Train/Test split 80/20 split"
   ]
  },
  {
   "cell_type": "code",
   "execution_count": 4,
   "metadata": {},
   "outputs": [],
   "source": [
    "X = np.array(illness)\n",
    "\n",
    "split_index = int(0.8 * len(X))\n",
    "X, X_test = X[:split_index, :], X[split_index:, :]"
   ]
  },
  {
   "cell_type": "markdown",
   "metadata": {},
   "source": [
    "### Normalisation \n",
    "Mean and Standard Deviation calculated with first 87.5 Percent of the training data\n"
   ]
  },
  {
   "cell_type": "code",
   "execution_count": 5,
   "metadata": {},
   "outputs": [],
   "source": [
    "datetime_column_train = X[:, 0]\n",
    "datetime_column_test = X_test[:, 0]\n",
    "\n",
    "features_train = X[:, 1:].astype(float)\n",
    "features_test = X_test[:, 1:].astype(float)\n",
    "\n",
    "split_index = int(0.875 * len(X))\n",
    "mean = features_train[:split_index].mean(axis=0)\n",
    "std = features_train[:split_index].std(axis=0)\n",
    "\n",
    "features_train_normalized = (features_train - mean) / std\n",
    "features_test_normalized = (features_test - mean) / std\n",
    "\n",
    "X = np.column_stack((datetime_column_train, features_train_normalized))\n",
    "X_test = np.column_stack((datetime_column_test, features_test_normalized))"
   ]
  },
  {
   "cell_type": "markdown",
   "metadata": {},
   "source": [
    "### Align data with sliding window"
   ]
  },
  {
   "cell_type": "code",
   "execution_count": 6,
   "metadata": {},
   "outputs": [],
   "source": [
    "def create_sliding_windows_X(matrix, n, h):\n",
    "    num_rows, num_cols = matrix.shape\n",
    "    result_matrices = []\n",
    "\n",
    "    for col in range(1, num_cols):   # skip datecolumn\n",
    "        variable_windows = []\n",
    "\n",
    "        for i in range(num_rows - n - h + 1):\n",
    "            window = matrix[i:i+n, col]\n",
    "            variable_windows.append(window)\n",
    "\n",
    "        result_matrices.append(np.array(variable_windows))\n",
    "\n",
    "    return result_matrices\n",
    "\n",
    "def create_sliding_windows_Y(matrix, n, h):\n",
    "    num_rows, num_cols = matrix.shape\n",
    "    result_matrices = []\n",
    "\n",
    "    for col in range(1, num_cols):   # skip datecolumn\n",
    "        variable_windows = []\n",
    "\n",
    "        for i in range(n, num_rows - h + 1):\n",
    "            window = matrix[i:i+h, col]\n",
    "            variable_windows.append(window)\n",
    "\n",
    "        result_matrices.append(np.array(variable_windows))\n",
    "\n",
    "    return result_matrices"
   ]
  },
  {
   "cell_type": "code",
   "execution_count": 7,
   "metadata": {},
   "outputs": [],
   "source": [
    "h = [24, 36, 48, 60]      # predicted horizon\n",
    "n = 96                    # length of sliding window (Xi)\n",
    "len(X)\n",
    "\n",
    "X_list = create_sliding_windows_X(X, n, h[0])\n",
    "Y_list = create_sliding_windows_Y(X, n, h[0])"
   ]
  },
  {
   "cell_type": "markdown",
   "metadata": {},
   "source": [
    "### Train, Predict and Error Functions"
   ]
  },
  {
   "cell_type": "code",
   "execution_count": 8,
   "metadata": {},
   "outputs": [],
   "source": [
    "def linear_regression(X_list, Y_list):\n",
    "    models = []\n",
    "\n",
    "    for X, Y in zip(X_list, Y_list):\n",
    "\n",
    "        # Create and fit linear regression model\n",
    "        model = LinearRegression()\n",
    "        model.fit(X, Y)\n",
    "\n",
    "        models.append(model)\n",
    "\n",
    "    return models\n",
    "\n",
    "def predict(models, X_list):\n",
    "    predictions_list = []\n",
    "\n",
    "    for model, X in zip(models, X_list):\n",
    "        predictions = model.predict(X)\n",
    "        predictions_list.append(predictions)\n",
    "\n",
    "    return predictions_list\n",
    "\n",
    "def mse_error(prediction_list, Y_list_test):\n",
    "    mse_list = []    # save mse for every variable\n",
    "\n",
    "    for prediction, y in zip(prediction_list, Y_list_test):\n",
    "        mse_list.append(mean_squared_error(prediction, y))\n",
    "\n",
    "    return np.mean(mse_list)\n",
    "\n",
    "def mae_error(prediction_list, Y_list_test):\n",
    "    mae_list = []    # save mse for every variable\n",
    "\n",
    "    for prediction, y in zip(prediction_list, Y_list_test):\n",
    "        mae_list.append(mean_absolute_error(prediction, y))\n",
    "        \n",
    "    return np.mean(mae_list)\n"
   ]
  },
  {
   "cell_type": "markdown",
   "metadata": {},
   "source": [
    "## Run Test"
   ]
  },
  {
   "cell_type": "code",
   "execution_count": 9,
   "metadata": {},
   "outputs": [
    {
     "name": "stdout",
     "output_type": "stream",
     "text": [
      "Mean Squared Error: 3.546701111670855\n",
      "Mean Absolute Error: 1.369070390047721\n"
     ]
    }
   ],
   "source": [
    "h = [24, 36, 48, 60]      # predicted horizon\n",
    "n = 96                    # length of sliding window (Xi)\n",
    "\n",
    "X_list = create_sliding_windows_X(X, n, h[3])\n",
    "Y_list = create_sliding_windows_Y(X, n, h[3])\n",
    "\n",
    "X_list_test = create_sliding_windows_X(X_test, n, h[3])\n",
    "Y_list_test = create_sliding_windows_Y(X_test, n, h[3])\n",
    "\n",
    "models = linear_regression(X_list, Y_list)\n",
    "prediction_list = predict(models, X_list_test)\n",
    "\n",
    "mse = mse_error(prediction_list, Y_list_test)\n",
    "mae = mae_error(prediction_list, Y_list_test)\n",
    "\n",
    "print(f\"Mean Squared Error: {mse}\")\n",
    "print(f\"Mean Absolute Error: {mae}\")\n"
   ]
  },
  {
   "cell_type": "markdown",
   "metadata": {},
   "source": [
    "## Try Multivariate Approach"
   ]
  },
  {
   "cell_type": "markdown",
   "metadata": {},
   "source": [
    "Example for 2 variables:\n",
    "\n",
    "X = [Var_1, Var_2]\n",
    "\n",
    "Var_1 = [[1,2],[3,4]]\n",
    "\n",
    "Var_2 = [[5,6],[7,8]]\n",
    "\n",
    "combined for Multivariate analysis:\n",
    "\n",
    "X = [[1,2,5,6],[3,4,7,8]]"
   ]
  },
  {
   "cell_type": "code",
   "execution_count": 10,
   "metadata": {},
   "outputs": [
    {
     "name": "stdout",
     "output_type": "stream",
     "text": [
      "MSE of Multivariate linear Regression: 25.882299160200798\n",
      "MSE of Multivariate linear Regression: 3.97296911423748\n"
     ]
    }
   ],
   "source": [
    "h = [24, 36, 48, 60]      # predicted horizon\n",
    "n = 96                    # length of sliding window (Xi)\n",
    "\n",
    "X_list = create_sliding_windows_X(X, n, h[3])\n",
    "Y_list = create_sliding_windows_Y(X, n, h[3])\n",
    "\n",
    "X_list_test = create_sliding_windows_X(X_test, n, h[3])\n",
    "Y_list_test = create_sliding_windows_Y(X_test, n, h[3])\n",
    "    \n",
    "# Combine all matrices into a single matrix\n",
    "X_combined = np.concatenate(X_list, axis=1)\n",
    "Y_combined = np.concatenate(Y_list, axis=1)\n",
    "X_combined_test = np.concatenate(X_list_test, axis=1)\n",
    "Y_combined_test = np.concatenate(Y_list_test, axis=1)\n",
    "\n",
    "model = LinearRegression()\n",
    "model.fit(X_combined, Y_combined)\n",
    "\n",
    "prediction = model.predict(X_combined_test)\n",
    "\n",
    "print(f\"MSE of Multivariate linear Regression: {mean_squared_error(prediction, Y_combined_test)}\")\n",
    "print(f\"MSE of Multivariate linear Regression: {mean_absolute_error(prediction, Y_combined_test)}\")"
   ]
  },
  {
   "cell_type": "markdown",
   "metadata": {},
   "source": [
    "## How does the Baseline y=0 perform?"
   ]
  },
  {
   "cell_type": "code",
   "execution_count": 11,
   "metadata": {},
   "outputs": [
    {
     "name": "stdout",
     "output_type": "stream",
     "text": [
      "Error of the Baseline y=0\n",
      "Mean Squared Error: 10.369358994187028\n",
      "Mean Absolute Error: 2.2950808527574647\n"
     ]
    }
   ],
   "source": [
    "def mse_error_to_baseline(Y_list_test):\n",
    "    mae_list = []  # Save MAE for every variable\n",
    "\n",
    "    for y in Y_list_test:\n",
    "        zero_matrix = np.zeros_like(y)\n",
    "        mae_list.append(mean_squared_error(y, zero_matrix))\n",
    "\n",
    "    return np.mean(mae_list)\n",
    "\n",
    "def mae_error_to_baseline(Y_list_test):\n",
    "    mae_list = []  # Save MAE for every variable\n",
    "\n",
    "    for y in Y_list_test:\n",
    "        zero_matrix = np.zeros_like(y)\n",
    "        mae_list.append(mean_absolute_error(y, zero_matrix))\n",
    "\n",
    "    return np.mean(mae_list)\n",
    "\n",
    "\n",
    "mse = mse_error_to_baseline(Y_list_test)\n",
    "mae = mae_error_to_baseline(Y_list_test)\n",
    "print(\"Error of the Baseline y=0\")\n",
    "print(f\"Mean Squared Error: {mse}\")\n",
    "print(f\"Mean Absolute Error: {mae}\")"
   ]
  }
 ],
 "metadata": {
  "kernelspec": {
   "display_name": "doppg25",
   "language": "python",
   "name": "python3"
  },
  "language_info": {
   "codemirror_mode": {
    "name": "ipython",
    "version": 3
   },
   "file_extension": ".py",
   "mimetype": "text/x-python",
   "name": "python",
   "nbconvert_exporter": "python",
   "pygments_lexer": "ipython3",
   "version": "3.10.13"
  }
 },
 "nbformat": 4,
 "nbformat_minor": 2
}
